{
 "cells": [
  {
   "cell_type": "code",
   "execution_count": 57,
   "metadata": {},
   "outputs": [],
   "source": [
    "import os\n",
    "import cv2\n",
    "import shutil\n",
    "\n",
    "# Define the directories\n",
    "dataset_dir = r'C:\\Users\\nasser\\Downloads\\jhu_crowd_v2.0\\jhu_crowd_v2.0\\val'\n",
    "gt_dir = os.path.join(dataset_dir, 'gt')\n",
    "images_dir = os.path.join(dataset_dir, 'images')\n",
    "\n",
    "# Define the output directories\n",
    "output_dir = r'C:\\Users\\nasser\\Downloads\\jhu_crowd_v2.0\\jhu_crowd_v2.0\\yolo_val'\n",
    "output_gt_dir = os.path.join(output_dir, 'gt')\n",
    "output_images_dir = os.path.join(output_dir, 'images')\n",
    "\n",
    "# Create the output directories if they don't exist\n",
    "os.makedirs(output_gt_dir, exist_ok=True)\n",
    "os.makedirs(output_images_dir, exist_ok=True)\n",
    "\n",
    "# Get the list of all ground truth files\n",
    "gt_files = os.listdir(gt_dir)\n",
    "\n",
    "for gt_file in gt_files:\n",
    "    # Open the ground truth file\n",
    "    with open(os.path.join(gt_dir, gt_file), 'r') as f:\n",
    "        lines = f.readlines()\n",
    "\n",
    "    # Get the corresponding image file\n",
    "    image_file = os.path.join(images_dir, gt_file.replace('.txt', '.jpg'))\n",
    "    image = cv2.imread(image_file)\n",
    "    img_height, img_width = image.shape[:2]\n",
    "\n",
    "    # Open the output file in YOLO format\n",
    "    with open(os.path.join(output_gt_dir, gt_file), 'w') as yolo_file:\n",
    "        for line in lines:\n",
    "            # Parse the ground truth data\n",
    "            x, y, w, h, o, b = map(float, line.split())\n",
    "\n",
    "            # Calculate normalized values\n",
    "            x_normalized = x / img_width\n",
    "            y_normalized = y / img_height\n",
    "            w_normalized = w / img_width\n",
    "            h_normalized = h / img_height\n",
    "\n",
    "            # Write to the YOLO file\n",
    "            yolo_file.write(f'0 {x_normalized} {y_normalized} {w_normalized} {h_normalized}\\n')\n",
    "\n",
    "    # Copy the image file to the output directory\n",
    "    shutil.copy(image_file, output_images_dir)"
   ]
  },
  {
   "cell_type": "code",
   "execution_count": 63,
   "metadata": {},
   "outputs": [
    {
     "name": "stdout",
     "output_type": "stream",
     "text": [
      "C:\\Users\\nasser\\Downloads\\jhu_crowd_v2.0\\jhu_crowd_v2.0\n",
      "C:\\Users\\nasser\\Downloads\\jhu_crowd_v2.0\\jhu_crowd_v2.0\\test\n",
      "C:\\Users\\nasser\\Downloads\\jhu_crowd_v2.0\\jhu_crowd_v2.0\\test\\gt\n",
      "C:\\Users\\nasser\\Downloads\\jhu_crowd_v2.0\\jhu_crowd_v2.0\\test\\images\n",
      "C:\\Users\\nasser\\Downloads\\jhu_crowd_v2.0\\jhu_crowd_v2.0\\train\n",
      "C:\\Users\\nasser\\Downloads\\jhu_crowd_v2.0\\jhu_crowd_v2.0\\train\\gt\n",
      "C:\\Users\\nasser\\Downloads\\jhu_crowd_v2.0\\jhu_crowd_v2.0\\train\\images\n",
      "C:\\Users\\nasser\\Downloads\\jhu_crowd_v2.0\\jhu_crowd_v2.0\\val\n",
      "C:\\Users\\nasser\\Downloads\\jhu_crowd_v2.0\\jhu_crowd_v2.0\\val\\gt\n",
      "C:\\Users\\nasser\\Downloads\\jhu_crowd_v2.0\\jhu_crowd_v2.0\\val\\images\n",
      "C:\\Users\\nasser\\Downloads\\jhu_crowd_v2.0\\jhu_crowd_v2.0\\yolo_test\n",
      "C:\\Users\\nasser\\Downloads\\jhu_crowd_v2.0\\jhu_crowd_v2.0\\yolo_test\\gt\n",
      "C:\\Users\\nasser\\Downloads\\jhu_crowd_v2.0\\jhu_crowd_v2.0\\yolo_test\\images\n",
      "C:\\Users\\nasser\\Downloads\\jhu_crowd_v2.0\\jhu_crowd_v2.0\\yolo_train\n",
      "C:\\Users\\nasser\\Downloads\\jhu_crowd_v2.0\\jhu_crowd_v2.0\\yolo_train\\gt\n",
      "C:\\Users\\nasser\\Downloads\\jhu_crowd_v2.0\\jhu_crowd_v2.0\\yolo_train\\images\n",
      "C:\\Users\\nasser\\Downloads\\jhu_crowd_v2.0\\jhu_crowd_v2.0\\yolo_val\n",
      "C:\\Users\\nasser\\Downloads\\jhu_crowd_v2.0\\jhu_crowd_v2.0\\yolo_val\\gt\n",
      "C:\\Users\\nasser\\Downloads\\jhu_crowd_v2.0\\jhu_crowd_v2.0\\yolo_val\\images\n"
     ]
    }
   ],
   "source": [
    "# loop through all the .txt files in all the directories and delete the last line if it is empty\n",
    "root = r'C:\\Users\\nasser\\Downloads\\jhu_crowd_v2.0\\jhu_crowd_v2.0'\n",
    "for root, dirs, files in os.walk(root):\n",
    "    print(root)\n",
    "    for file in files:\n",
    "        if file.endswith('.txt'):\n",
    "            with open(os.path.join(root, file), 'r') as f:\n",
    "                lines = f.readlines()\n",
    "            if lines and lines[-1] == '':\n",
    "                print(f'Empty line found in {file}')\n",
    "                lines.pop()\n",
    "            with open(os.path.join(root, file), 'w') as f:\n",
    "                f.writelines(lines)"
   ]
  },
  {
   "cell_type": "code",
   "execution_count": null,
   "metadata": {},
   "outputs": [],
   "source": []
  }
 ],
 "metadata": {
  "kernelspec": {
   "display_name": "pytorch",
   "language": "python",
   "name": "python3"
  },
  "language_info": {
   "codemirror_mode": {
    "name": "ipython",
    "version": 3
   },
   "file_extension": ".py",
   "mimetype": "text/x-python",
   "name": "python",
   "nbconvert_exporter": "python",
   "pygments_lexer": "ipython3",
   "version": "3.7.12"
  }
 },
 "nbformat": 4,
 "nbformat_minor": 2
}
